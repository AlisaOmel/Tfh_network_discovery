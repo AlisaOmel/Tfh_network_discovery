{
 "cells": [
  {
   "cell_type": "code",
   "execution_count": 6,
   "id": "1630d3e3-d950-4456-89a1-365940889368",
   "metadata": {
    "tags": []
   },
   "outputs": [],
   "source": [
    "import pandas as pd\n",
    "from scipy.stats import zscore\n",
    "import seaborn as sns\n",
    "from scipy.cluster.hierarchy import fcluster\n",
    "import numpy as np"
   ]
  },
  {
   "cell_type": "code",
   "execution_count": 7,
   "id": "3f3c762f-1eb5-4cec-9cc9-76d1decf320a",
   "metadata": {
    "tags": []
   },
   "outputs": [],
   "source": [
    "header = ['Naive 1', 'Naive 2', 'Naive 3', 'Naive 4', 'Early Pre-TFH 1', 'Early Pre-TFH 2', 'Early Pre-TFH 3', 'Early Pre-TFH 4', 'Late Pre-TFH 1', 'Late Pre-TFH 2', 'Late Pre-TFH 3', 'Late Pre-TFH 4', 'GC 1', 'GC 2', 'GC 3', 'GC 4']\n",
    "\n",
    "rna_seq = pd.read_csv('/ix/djishnu/Alisa/Tfh/Run_313.atac-seq-correl.rsem.pe.hg38.ensembl.counts.matrix.results.normalized_data_matrix', skiprows = [0], names=header, sep ='\\t')\n",
    "rna_seq = rna_seq.reset_index()\n",
    "\n",
    "rna_seq = rna_seq.rename(columns={'index': \"Gene\"})\n",
    "rna_seq[['Gene_ID', 'Genes']] = rna_seq.Gene.str.split(\"_\",n=1, expand=True)"
   ]
  },
  {
   "cell_type": "code",
   "execution_count": 8,
   "id": "c8ae34c2-cd5a-45fd-ba06-1ec274aad6a7",
   "metadata": {
    "tags": []
   },
   "outputs": [],
   "source": [
    "rna_seq['ATAC_Naive'] = rna_seq[['Naive 1', 'Naive 2', 'Naive 3', 'Naive 4']].mean(axis=1) + 0.000001\n",
    "rna_seq['ATAC_Early_Pre-TFH'] = rna_seq[['Early Pre-TFH 1', 'Early Pre-TFH 2', 'Early Pre-TFH 3', 'Early Pre-TFH 4']].mean(axis=1) + 0.000001\n",
    "rna_seq['ATAC_Late_Pre-TFH'] = rna_seq[['Late Pre-TFH 1', 'Late Pre-TFH 2', 'Late Pre-TFH 3', 'Late Pre-TFH 4']].mean(axis=1) + 0.000001\n",
    "rna_seq['ATAC_GC'] = rna_seq[['GC 1', 'GC 2', 'GC 3', 'GC 4']].mean(axis=1) + 0.000001\n",
    "rna_seq_mean = rna_seq[['Genes', 'ATAC_Naive','ATAC_Early_Pre-TFH', 'ATAC_Late_Pre-TFH', 'ATAC_GC']]"
   ]
  },
  {
   "cell_type": "code",
   "execution_count": 9,
   "id": "95f79cfa-2cd5-4229-b251-0f0ab2b073de",
   "metadata": {
    "tags": []
   },
   "outputs": [],
   "source": [
    "rna_seq_mean = rna_seq_mean.set_index('Genes')"
   ]
  },
  {
   "cell_type": "code",
   "execution_count": 24,
   "id": "a4af0d43-1123-4877-ac2e-b0e7950f238b",
   "metadata": {
    "tags": []
   },
   "outputs": [
    {
     "name": "stdout",
     "output_type": "stream",
     "text": [
      "               Genes  LogChange\n",
      "0             TSPAN6 -17.554026\n",
      "1               TNMD   0.000000\n",
      "2               DPM1  -0.131166\n",
      "3              SCYL3   2.485725\n",
      "4           C1orf112  -2.487404\n",
      "...              ...        ...\n",
      "60670  CTD-2060L22.1 -16.784421\n",
      "60671   RP11-107E5.4   0.000000\n",
      "60672          HYMAI  20.806715\n",
      "60673     RARRES2P11   0.000000\n",
      "60674   RP11-299P2.2   0.000000\n",
      "\n",
      "[60675 rows x 2 columns]\n"
     ]
    }
   ],
   "source": [
    "rna_seq_mean['LogChange'] = np.log2(np.divide(rna_seq_mean[\"ATAC_GC\"],rna_seq_mean[\"ATAC_Early_Pre-TFH\"]))\n",
    "rna_seq_mean = rna_seq_mean.reset_index()\n",
    "\n",
    "#rna_seq_mean_filtered = rna_seq_mean[rna_seq_mean['total'] > threshold]\n",
    "#print(rna_seq_mean_filtered)\n",
    "rna_seq_sign_change = rna_seq_mean[['Genes', 'LogChange']]\n",
    "print(rna_seq_sign_change)"
   ]
  },
  {
   "cell_type": "code",
   "execution_count": 25,
   "id": "ee23ac87-91d7-4691-bdee-5920b40476ef",
   "metadata": {
    "tags": []
   },
   "outputs": [
    {
     "name": "stdout",
     "output_type": "stream",
     "text": [
      "      index Genes  ATAC_Naive  ATAC_Early_Pre-TFH  ATAC_Late_Pre-TFH  \\\n",
      "4239   4239  BCL6   66.066535           91.347667         358.027455   \n",
      "\n",
      "         ATAC_GC  LogChange  \n",
      "4239  403.335255    2.14254  \n"
     ]
    }
   ],
   "source": [
    "#Check direction:\n",
    "print(rna_seq_mean[rna_seq_mean['Genes']=='BCL6'])"
   ]
  },
  {
   "cell_type": "code",
   "execution_count": 26,
   "id": "da93dad0-a8ad-4d71-a4ad-4be83922dc96",
   "metadata": {
    "tags": []
   },
   "outputs": [],
   "source": [
    "rna_seq_sign_change.to_csv('../../Sample_outputs/correct_direction_sign_change_rna_earlyvsGC_log2FC.csv')"
   ]
  },
  {
   "cell_type": "code",
   "execution_count": 27,
   "id": "44926396-093d-4ecc-95fa-f983ab32523b",
   "metadata": {
    "tags": []
   },
   "outputs": [],
   "source": [
    "#Cap the LogFC values at abs(2):\n",
    "rna_seq_sign_change = rna_seq_sign_change.copy()\n",
    "rna_seq_sign_change['LogChange_Thresh'] = rna_seq_sign_change['LogChange'].clip(lower=-2, upper=2)\n",
    "\n"
   ]
  },
  {
   "cell_type": "code",
   "execution_count": 28,
   "id": "613e4791-c492-4bc2-90eb-189d530527d8",
   "metadata": {
    "tags": []
   },
   "outputs": [],
   "source": [
    "rna_seq_sign_change.to_csv('../../Sample_outputs/correct_direction_sign_change_rna_earlyvsGC_Thresh_log2FC.csv')"
   ]
  },
  {
   "cell_type": "code",
   "execution_count": 30,
   "id": "11798c74-c773-4ffc-a3c9-08a65d38aa19",
   "metadata": {
    "tags": []
   },
   "outputs": [],
   "source": [
    "# Make a safe copy to avoid modifying the original DataFrame\n",
    "rna_seq_filtered = rna_seq_mean.copy()\n",
    "\n",
    "# Compute row means only on numeric columns\n",
    "rna_seq_filtered[\"total\"] = rna_seq_filtered.mean(axis=1, numeric_only=True)\n",
    "\n",
    "# Calculate the 10% threshold\n",
    "threshold = rna_seq_filtered[\"total\"].quantile(0.10)\n",
    "\n",
    "# Filter out the lowest 10%\n",
    "filtered_df = rna_seq_filtered[rna_seq_filtered[\"total\"] > threshold]\n"
   ]
  },
  {
   "cell_type": "code",
   "execution_count": 32,
   "id": "6b470397-110d-4401-83a0-761426db61f9",
   "metadata": {
    "tags": []
   },
   "outputs": [
    {
     "name": "stdout",
     "output_type": "stream",
     "text": [
      "       index          Genes   ATAC_Naive  ATAC_Early_Pre-TFH  \\\n",
      "1316    1316           ACTB  8422.419944         9197.528240   \n",
      "1822    1822          RPLP0  1695.126741         1170.278780   \n",
      "2261    2261           RPL3  4648.864158         3161.038351   \n",
      "3149    3149         RPL18A  1720.034289         1080.773323   \n",
      "3506    3506          RPL19  2277.307876         1653.059116   \n",
      "...      ...            ...          ...                 ...   \n",
      "60670  60670  CTD-2060L22.1     0.000001            0.112879   \n",
      "60671  60671   RP11-107E5.4     0.000001            0.000001   \n",
      "60672  60672          HYMAI     0.000001            0.000001   \n",
      "60673  60673     RARRES2P11     0.000001            0.000001   \n",
      "60674  60674   RP11-299P2.2     0.000001            0.000001   \n",
      "\n",
      "       ATAC_Late_Pre-TFH       ATAC_GC  LogChange         total  State  \n",
      "1316         8743.239117  12151.277559   0.401790   6638.477775      3  \n",
      "1822         1296.100210    732.030630  -0.676876   1119.143247      0  \n",
      "2261         1169.993432   1192.519763  -1.406385   2072.001553      0  \n",
      "3149          445.727164    441.597587  -1.291260   1139.306851      0  \n",
      "3506          671.039579    643.664771  -1.360757   1458.285097      0  \n",
      "...                  ...           ...        ...           ...    ...  \n",
      "60670           0.613499      0.000001 -16.784421  10108.990327      2  \n",
      "60671           0.000001      0.000001   0.000000  10111.833334      0  \n",
      "60672           0.000001      1.834194  20.806715  10115.773485      3  \n",
      "60673           0.000001      0.000001   0.000000  10112.166667      0  \n",
      "60674           0.000001      0.000001   0.000000  10112.333334      0  \n",
      "\n",
      "[54607 rows x 9 columns]\n"
     ]
    }
   ],
   "source": [
    "# Function to map column names to scores\n",
    "def map_to_scores(column_name):\n",
    "    column_mapping = {\n",
    "        'ATAC_Naive': 0,\n",
    "        'ATAC_Early_Pre-TFH': 1,\n",
    "        'ATAC_Late_Pre-TFH': 2,\n",
    "        'ATAC_GC': 3\n",
    "    }\n",
    "    return column_mapping[column_name]\n",
    "\n",
    "# Select only the numeric expression columns for idxmax\n",
    "expression_cols = ['ATAC_Naive', 'ATAC_Early_Pre-TFH', 'ATAC_Late_Pre-TFH', 'ATAC_GC']\n",
    "max_columns = filtered_df[expression_cols].idxmax(axis=1)\n",
    "\n",
    "# Map the column names to scores and create the State column\n",
    "filtered_df = filtered_df.copy()\n",
    "filtered_df['State'] = max_columns.apply(map_to_scores)\n",
    "\n",
    "# Save to CSV\n",
    "filtered_df.to_csv('../../Sample_outputs/rna_state_specific.csv')\n",
    "\n",
    "print(filtered_df)\n"
   ]
  },
  {
   "cell_type": "code",
   "execution_count": null,
   "id": "4ce8ad29-264d-4228-8d5d-89a6efca9239",
   "metadata": {},
   "outputs": [],
   "source": []
  },
  {
   "cell_type": "code",
   "execution_count": null,
   "id": "8046bbde-462f-4b76-98c2-f7f14aec927e",
   "metadata": {},
   "outputs": [],
   "source": []
  }
 ],
 "metadata": {
  "kernelspec": {
   "display_name": "Python 3 (ipykernel)",
   "language": "python",
   "name": "python3"
  },
  "language_info": {
   "codemirror_mode": {
    "name": "ipython",
    "version": 3
   },
   "file_extension": ".py",
   "mimetype": "text/x-python",
   "name": "python",
   "nbconvert_exporter": "python",
   "pygments_lexer": "ipython3",
   "version": "3.11.5"
  }
 },
 "nbformat": 4,
 "nbformat_minor": 5
}
