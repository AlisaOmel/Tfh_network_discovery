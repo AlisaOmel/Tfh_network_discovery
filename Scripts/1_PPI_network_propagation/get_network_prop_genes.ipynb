{
 "cells": [
  {
   "cell_type": "code",
   "execution_count": 1,
   "id": "30ccb446-efda-42ce-936f-e853f1ba398e",
   "metadata": {
    "tags": []
   },
   "outputs": [],
   "source": [
    "import pandas as pd\n",
    "import numpy as np\n",
    "import csv\n",
    "import h5py\n",
    "import pickle"
   ]
  },
  {
   "cell_type": "code",
   "execution_count": 2,
   "id": "5ec7af12-5a2a-4b77-8526-60c247696560",
   "metadata": {
    "tags": []
   },
   "outputs": [],
   "source": [
    "def get_significant_genes(components_dir_list, len_from_component, output_dir, output_name, p_val='0.05', save='on'):\n",
    "    gene_list = []\n",
    "    for i in range(0,len(components_dir_list)):\n",
    "        component = pd.read_csv(components_dir_list[i], sep = '\\t', header = None).replace(np.nan,'', regex=True)\n",
    "        for j in range(0, len_from_component[i]):\n",
    "            for gene_set in component.iloc[j]:\n",
    "                if gene_set != '':\n",
    "                    gene_list.append(gene_set)\n",
    "        print(len(gene_list))\n",
    "    \n",
    "    print(len(gene_list))\n",
    "    gene_list_df = pd.DataFrame()\n",
    "    gene_list_df['Genes'] = gene_list\n",
    "    gene_list_df = gene_list_df.drop_duplicates(subset=[\"Genes\"])\n",
    "    print(len(gene_list_df))\n",
    "    ###SAVE THE GENE FILE\n",
    "    if save=='on':\n",
    "        print('Saving File...')\n",
    "        with open('{0}/{1}_significant_gene_list_p{2}.txt'.format(output_dir, output_name,p_val), 'w', newline='') as file:\n",
    "            writer = csv.writer(file)\n",
    "            writer.writerow(set(gene_list))\n",
    "            \n",
    "        with open(\"{0}/{1}_significant_gene_list_p{2}.pkl\".format(output_dir, output_name, p_val), \"wb\") as fp:   #Pickling\n",
    "            pickle.dump(set(gene_list), fp)\n",
    "        \n",
    "        gene_list_df.to_csv(\"{0}/{1}_significant_gene_list_p{2}.csv\".format(output_dir, output_name,p_val), index=False )\n",
    "\n",
    "            \n",
    "    return gene_list"
   ]
  },
  {
   "cell_type": "code",
   "execution_count": 3,
   "id": "e028315a-b249-44b4-a46a-e14e18f4e3ee",
   "metadata": {
    "tags": []
   },
   "outputs": [],
   "source": [
    "#P-val cut off 0.05:\n",
    "components_dir_list_PPS_1 = ['/ix/djishnu/Alisa/Tfh/Network_analysis/results/patternB/homosapiens_binary_co_complex_feb2023-pattern_1234_genes_scores/delta_0.721396200359/components.txt',\n",
    "                                  '/ix/djishnu/Alisa/Tfh/Network_analysis/results/patternB/homosapiens_binary_co_complex_feb2023-pattern_1234_genes_scores/delta_0.910428453702/components.txt',\n",
    "                                  '/ix/djishnu/Alisa/Tfh/Network_analysis/results/patternB/homosapiens_binary_co_complex_feb2023-pattern_1234_genes_scores/delta_1.38050123258/components.txt']\n",
    "\n",
    "len_from_component_PPS_1 = [30,7,4]\n",
    "\n",
    "output_dir = '/ix/djishnu/Alisa/Tfh/ForPaper/process_network_prop_output/'\n",
    "output_name = 'PPS_1'"
   ]
  },
  {
   "cell_type": "code",
   "execution_count": 4,
   "id": "f034bbc7-ecb2-4e9e-a829-ed716e99da4a",
   "metadata": {
    "tags": []
   },
   "outputs": [],
   "source": [
    "#P-val cut off 0.1:\n",
    "components_dir_list_PPS_1 = ['/ix/djishnu/Alisa/Tfh/Network_analysis/results/patternB/homosapiens_binary_co_complex_feb2023-pattern_1234_genes_scores/delta_0.721396200359/components.txt',\n",
    "                             '/ix/djishnu/Alisa/Tfh/Network_analysis/results/patternB/homosapiens_binary_co_complex_feb2023-pattern_1234_genes_scores/delta_0.78899976844/components.txt',\n",
    "                                  '/ix/djishnu/Alisa/Tfh/Network_analysis/results/patternB/homosapiens_binary_co_complex_feb2023-pattern_1234_genes_scores/delta_0.910428453702/components.txt',\n",
    "                                  '/ix/djishnu/Alisa/Tfh/Network_analysis/results/patternB/homosapiens_binary_co_complex_feb2023-pattern_1234_genes_scores/delta_1.38050123258/components.txt']\n",
    "\n",
    "len_from_component_PPS_1 = [30,14,10,4]\n",
    "\n",
    "output_dir = '/ix/djishnu/Alisa/Tfh/ForPaper/process_network_prop_output/'\n",
    "output_name = 'PPS_1'"
   ]
  },
  {
   "cell_type": "code",
   "execution_count": null,
   "id": "a95efa34-9f20-4dde-a3fe-6556d7e59b3c",
   "metadata": {
    "tags": []
   },
   "outputs": [],
   "source": [
    "pps_1_gene_list = get_significant_genes(components_dir_list_PPS_1, len_from_component_PPS_1, output_dir, output_name, p_val='0.05', save='on')"
   ]
  },
  {
   "cell_type": "code",
   "execution_count": null,
   "id": "5e28ebc6-efa3-4a57-91e4-ae0ab96098b3",
   "metadata": {
    "tags": []
   },
   "outputs": [],
   "source": [
    "pps_scores_raw= pd.read_csv('/ix/djishnu/Alisa/Tfh/Network_analysis/data/Pattern_1234_Genes_Scores.txt', sep='\\t', names=['Gene', 'PPS_Score'])\n",
    "genes_of_int = ['IL6', 'IL6R', 'JAK1','STAT3', \"IL6ST\"]\n",
    "pps_scores_raw_subset= pps_scores_raw[pps_scores_raw['Gene'].isin(genes_of_int)]\n",
    "print(pps_scores_raw_subset)"
   ]
  },
  {
   "cell_type": "code",
   "execution_count": 6,
   "id": "35c94553-e1de-4ce7-a5f7-799725557e31",
   "metadata": {
    "tags": []
   },
   "outputs": [],
   "source": [
    "#components_dir_list_PPS_3 = ['/ix/djishnu/Alisa/Tfh/Network_analysis/results/patternB_3/homosapiens_binary_co_complex_feb2023-pattern_1234_genes_scores/delta_0.721396200359/components.txt',\n",
    "#                                  '/ix/djishnu/Alisa/Tfh/Network_analysis/results/patternB_3/homosapiens_binary_co_complex_feb2023-pattern_1234_genes_scores/delta_0.910428453702/components.txt',\n",
    "#                                  '/ix/djishnu/Alisa/Tfh/Network_analysis/results/patternB_3/homosapiens_binary_co_complex_feb2023-pattern_1234_genes_scores/delta_1.38050123258/components.txt']\n",
    "\n",
    "#len_from_component_PPS_3 = [30,7,4]\n",
    "\n",
    "#output_dir = '/ix/djishnu/Alisa/Tfh/ForPaper/process_network_prop_output/'\n",
    "#output_name = 'PPS_3'"
   ]
  },
  {
   "cell_type": "code",
   "execution_count": 8,
   "id": "5829fd7b-202c-4c06-b608-b4b5964d8285",
   "metadata": {},
   "outputs": [
    {
     "name": "stdout",
     "output_type": "stream",
     "text": [
      "184\n",
      "245\n",
      "267\n",
      "267\n",
      "184\n",
      "Saving File...\n"
     ]
    }
   ],
   "source": [
    "#pps_3_gene_list = get_significant_genes(components_dir_list_PPS_3, len_from_component_PPS_3, output_dir, output_name, save='on')"
   ]
  }
 ],
 "metadata": {
  "kernelspec": {
   "display_name": "Python 3 (ipykernel)",
   "language": "python",
   "name": "python3"
  },
  "language_info": {
   "codemirror_mode": {
    "name": "ipython",
    "version": 3
   },
   "file_extension": ".py",
   "mimetype": "text/x-python",
   "name": "python",
   "nbconvert_exporter": "python",
   "pygments_lexer": "ipython3",
   "version": "3.11.5"
  }
 },
 "nbformat": 4,
 "nbformat_minor": 5
}
