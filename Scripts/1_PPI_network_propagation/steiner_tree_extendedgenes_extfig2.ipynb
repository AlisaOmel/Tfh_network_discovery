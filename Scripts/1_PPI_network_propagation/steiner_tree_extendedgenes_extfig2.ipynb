{
 "cells": [
  {
   "cell_type": "code",
   "execution_count": 1,
   "id": "fee821f5-4e60-4e06-91d4-9accab323181",
   "metadata": {},
   "outputs": [],
   "source": [
    "import pandas as pd\n",
    "import numpy as np\n",
    "import csv\n",
    "import h5py\n",
    "import pickle\n",
    "import random \n",
    "random.seed(42)\n",
    "import ast\n",
    "import networkx as nx\n",
    "from networkx.algorithms.approximation import steiner_tree\n",
    "from tqdm import tqdm\n",
    "from itertools import combinations"
   ]
  },
  {
   "cell_type": "code",
   "execution_count": 2,
   "id": "0d123d86-705d-4721-832f-64f226e4f28d",
   "metadata": {},
   "outputs": [],
   "source": [
    "ppi = h5py.File('/ix/djishnu/Alisa/Tfh/Network_analysis/data/HomoSapiens_binary_co_complex_Feb2023_1_ppr_0.4.h5', 'r')\n",
    "#list(ppi.keys())\n",
    "hint_data = ppi['edges']\n",
    "\n",
    "### Make a dataframe with HINT interactions and the Gene IDs\n",
    "def make_hint_df(hint_data):\n",
    "    gene_sets = []\n",
    "    for entry in hint_data:\n",
    "        prot_1 = entry[0].decode('utf-8')\n",
    "        prot_2 = entry[1].decode('utf-8')\n",
    "        \n",
    "        gene_sets.append([prot_1, prot_2])\n",
    "    return gene_sets\n",
    "\n",
    "\n",
    "hint = make_hint_df(hint_data)\n",
    "hint_df = pd.DataFrame(hint)\n",
    "\n",
    "hint_df.columns = [\"GeneA\", \"GeneB\"]"
   ]
  },
  {
   "cell_type": "code",
   "execution_count": 3,
   "id": "b4b596a8-8a9b-47a8-bb33-08b9dde64652",
   "metadata": {},
   "outputs": [],
   "source": [
    "#sif_df = pd.read_csv(\"/ix/djishnu/Alisa/Tfh/ForPaper/other_figures/vinuesa_steiner_network.sif\", sep=\"\\t| \", engine=\"python\", header=None)\n",
    "\n",
    "sif_df = pd.read_csv(\"/ix/djishnu/Alisa/Tfh/ForPaper/other_figures/extended_vinuesa_hint_cxcr5_centric.sif\", sep=\"\\t| \", engine=\"python\", header=None)\n",
    "sif_df.columns = [\"Source\", \"Interaction\", \"Target\"]"
   ]
  },
  {
   "cell_type": "code",
   "execution_count": 48,
   "id": "7307c120-8652-4d5c-b421-3235c97b5b59",
   "metadata": {},
   "outputs": [
    {
     "name": "stdout",
     "output_type": "stream",
     "text": [
      "2735\n"
     ]
    }
   ],
   "source": [
    "# Define your protein of interest\n",
    "protein = \"GNAI2\"\n",
    "\n",
    "# Find all interactors: rows where VIRMA is in either column\n",
    "interactors = hint_df[\n",
    "    (hint_df[\"GeneA\"] == protein) | (hint_df[\"GeneB\"] == protein)\n",
    "]\n",
    "\n",
    "# Flatten to get all partner genes\n",
    "interactors_set = set()\n",
    "\n",
    "for _, row in interactors.iterrows():\n",
    "    if row[\"GeneA\"] == protein:\n",
    "        interactors_set.add(row[\"GeneB\"])\n",
    "    else:\n",
    "        interactors_set.add(row[\"GeneA\"])\n",
    "\n",
    "# Convert to DataFrame\n",
    "interactors_df = pd.DataFrame({\"Interactor\": list(interactors_set)})\n",
    "\n",
    "# Optional: add a column for the source protein\n",
    "interactors_df[\"Source\"] = protein\n",
    "\n",
    "# View result\n",
    "print(len(interactors_df))"
   ]
  },
  {
   "cell_type": "code",
   "execution_count": 39,
   "id": "8a909f31-9fd1-4f1f-a2c8-c9e5f11977b7",
   "metadata": {},
   "outputs": [],
   "source": [
    "new_edges = pd.DataFrame({\n",
    "    \"Source\": protein,\n",
    "    \"Interaction\": \"pp\",  # or another interaction type\n",
    "    \"Target\": list(interactors_set)\n",
    "})\n",
    "\n",
    "# Append to existing SIF\n",
    "extended_sif_df = pd.concat([sif_df, new_edges], ignore_index=True)"
   ]
  },
  {
   "cell_type": "code",
   "execution_count": 86,
   "id": "e120beee-1b8f-43e6-9cb5-b63dd5d202b3",
   "metadata": {},
   "outputs": [],
   "source": [
    "extended_sif_df.to_csv(\"/ix/djishnu/Alisa/Tfh/ForPaper/other_figures/extended_vinuesa_hint_ICOS_centric.sif\", sep=\"\\t\", index=False, header=False)"
   ]
  },
  {
   "cell_type": "code",
   "execution_count": 10,
   "id": "7cb8a99d-c359-41a7-b071-92087c8c8841",
   "metadata": {},
   "outputs": [],
   "source": [
    "pps_df  = pd.read_csv('/ix/djishnu/Alisa/Tfh/ForPaper/process_network_prop_output/PPS_1_significant_gene_list.csv')\n",
    "pps = list(pps_df['Genes'])"
   ]
  },
  {
   "cell_type": "code",
   "execution_count": 40,
   "id": "d26be2ae-31e8-4a0b-903c-f188f4bca486",
   "metadata": {},
   "outputs": [],
   "source": [
    "# Load Vinuesa gene set\n",
    "with open(\"/ix/djishnu/Alisa/Tfh/Vinuesa_updated_list.txt\", \"r\") as file:\n",
    "    Vinuesa_review = file.read().strip()\n",
    "Vinuesa_review_gene_set = set(ast.literal_eval(Vinuesa_review))\n",
    "\n",
    "# Load PPS heat scores\n",
    "#pps_df = pd.read_csv(\"/ix/djishnu/Alisa/Tfh/Network_analysis/data/Pattern_1234_Genes_Scores.txt\", sep='\\t', header=None,)\n",
    "#pps_df.columns = [\"Gene\", \"PPS_Score\"]\n",
    "\n",
    "\n",
    "#2. Get all unique genes from Source and Target columns\n",
    "all_genes = list(pd.Series(list(set(extended_sif_df[\"Source\"]).union(set(extended_sif_df[\"Target\"]))), name=\"Gene\"))\n",
    "#all_genes = list(pd.Series(list(set(sif_df[\"Source\"]).union(set(sif_df[\"Target\"]))), name=\"Gene\"))\n",
    "\n",
    "\n"
   ]
  },
  {
   "cell_type": "code",
   "execution_count": 42,
   "id": "49c45a6d-82d0-4992-a7f5-1f5d40759e11",
   "metadata": {},
   "outputs": [],
   "source": [
    "gene_presence = []\n",
    "\n",
    "for gene in all_genes:\n",
    "    if gene in pps:\n",
    "        gene_presence.append(1)\n",
    "    else:\n",
    "        gene_presence.append(0)"
   ]
  },
  {
   "cell_type": "code",
   "execution_count": 43,
   "id": "e4493175-a03c-4e82-aced-01b1f11ebabd",
   "metadata": {},
   "outputs": [],
   "source": [
    "df = pd.DataFrame()\n",
    "df['name'] = all_genes\n",
    "df['sig'] = gene_presence"
   ]
  },
  {
   "cell_type": "code",
   "execution_count": 44,
   "id": "2b84889a-3fa7-4b1e-bb34-0f73cf90d5ed",
   "metadata": {},
   "outputs": [
    {
     "name": "stdout",
     "output_type": "stream",
     "text": [
      "       name  sig\n",
      "19   PTPN11    1\n",
      "60    FOXP1    1\n",
      "64     IRF4    1\n",
      "99    CIITA    1\n",
      "110   RIC8B    1\n",
      "117   PDCD1    1\n",
      "125   STAT1    1\n",
      "128     IL2    1\n"
     ]
    }
   ],
   "source": [
    "print(df[df['sig']==1])"
   ]
  },
  {
   "cell_type": "code",
   "execution_count": 45,
   "id": "2ca3d56d-7f8a-4c0d-984e-c51ecc69ee17",
   "metadata": {},
   "outputs": [],
   "source": [
    "df.to_csv(\"/ix/djishnu/Alisa/Tfh/ForPaper/other_figures/extended_vinuesa_hint_CXCR5_sig.csv\", index=False)"
   ]
  }
 ],
 "metadata": {
  "kernelspec": {
   "display_name": "Python 3",
   "language": "python",
   "name": "python3"
  },
  "language_info": {
   "codemirror_mode": {
    "name": "ipython",
    "version": 3
   },
   "file_extension": ".py",
   "mimetype": "text/x-python",
   "name": "python",
   "nbconvert_exporter": "python",
   "pygments_lexer": "ipython3",
   "version": "3.8.8"
  }
 },
 "nbformat": 4,
 "nbformat_minor": 5
}
