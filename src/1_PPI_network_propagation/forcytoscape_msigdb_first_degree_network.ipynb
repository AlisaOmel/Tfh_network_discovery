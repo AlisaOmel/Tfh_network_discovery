{
 "cells": [
  {
   "cell_type": "code",
   "execution_count": 1,
   "id": "a4967d15-b51b-4ec9-914c-62f6c3e5dded",
   "metadata": {},
   "outputs": [],
   "source": [
    "import pandas as pd\n",
    "import numpy as np\n",
    "import csv\n",
    "import h5py\n",
    "import pickle\n",
    "import random\n",
    "random.seed(42)"
   ]
  },
  {
   "cell_type": "code",
   "execution_count": 3,
   "id": "a71694c7-1a3d-4cc7-b2ce-d6c205e85bc8",
   "metadata": {},
   "outputs": [],
   "source": [
    "def first_degree_goldstand_set(gene_set, sig_list, sig_fd, hint_data, save='off', output='genes', directory=\"/ix/djishnu/Alisa/Tfh/ForPaper/\"): #directory='/ix/djishnu/Alisa/Tfh/Network_analysis/results/'):\n",
    "    gene_sets = []\n",
    "    all_genes = []\n",
    "    \n",
    "    for entry in hint_data:\n",
    "        prot_1 = entry[0].decode('utf-8')\n",
    "        prot_2 = entry[1].decode('utf-8')\n",
    "        \n",
    "    \n",
    "        if prot_1 in gene_set and prot_2 in gene_set:\n",
    "            gene_sets.append([prot_1, prot_2])\n",
    "        \n",
    "            if prot_1 not in all_genes:\n",
    "                all_genes.append(prot_1)\n",
    "            if prot_2 not in all_genes:\n",
    "                all_genes.append(prot_2)\n",
    "                \n",
    "        if (prot_1 not in gene_set and prot_2 in gene_set) or (prot_1 in gene_set and prot_2  not in gene_set):\n",
    "            if prot_1 in sig_list and prot_2 in sig_list:\n",
    "                gene_sets.append([prot_1, prot_2])\n",
    "\n",
    "                if prot_1 not in all_genes:\n",
    "                    all_genes.append(prot_1)\n",
    "                if prot_2 not in all_genes:\n",
    "                    all_genes.append(prot_2)\n",
    "    \n",
    "    prot_label = []\n",
    "    for my_gene in all_genes:\n",
    "        if my_gene in gene_set and my_gene in sig_fd:\n",
    "            prot_label.append([my_gene, 0])\n",
    "        if my_gene not in gene_set and my_gene in sig_fd:\n",
    "            prot_label.append([my_gene, 1])\n",
    "        if my_gene in gene_set and my_gene not in sig_fd:\n",
    "            prot_label.append([my_gene, 2])\n",
    "        if my_gene not in gene_set and my_gene not in sig_fd:\n",
    "            prot_label.append([my_gene, 3])\n",
    "        \n",
    "    if save == 'on':\n",
    "        print('Saving files ...')\n",
    "        gene_sets_df = pd.DataFrame(gene_sets, columns = ['Prot_1', 'Prot_2'])\n",
    "        gene_sets_df.to_csv('{0}/{1}_nodot_gene_sets_df.csv'.format(directory, output), sep =',', index = False)\n",
    "        \n",
    "        gene_labels_df = pd.DataFrame(prot_label, columns = ['Prot', 'Label'])\n",
    "        gene_labels_df.to_csv('{0}/{1}_nodot_gene_labels_df.csv'.format(directory, output), sep =',', index = False)\n",
    "        \n",
    "        with open(\"{0}/{1}_nodot_unique_genes.pkl\".format(directory, output), \"wb\") as fp:   #Pickling\n",
    "            pickle.dump(all_genes, fp)\n",
    "            \n",
    "    return gene_sets_df, all_genes, gene_labels_df"
   ]
  },
  {
   "cell_type": "code",
   "execution_count": 4,
   "id": "64964673-2f37-4b47-92f5-9b45821e35b7",
   "metadata": {},
   "outputs": [],
   "source": [
    "###LOAD RESULTS:\n",
    "with open('/ix/djishnu/Alisa/Tfh/Network_analysis/results/patternB_run1_outputs/pattern_b_nodot_genes.pkl', \"rb\") as fp:\n",
    "    patternb_sig_list = pickle.load(fp)\n",
    "    \n",
    "#with open(\"/ix/djishnu/Alisa/Tfh/Network_analysis/results/patternB/pattern_b_unique_genes.pkl\", \"rb\") as fp:   # Unpickling\n",
    "with open(\"/ix/djishnu/Alisa/Tfh/ForPaper/first_degree_int/pps_unique_genes.pkl\",\"rb\") as fp:\n",
    "    patternb_fd = pickle.load(fp)\n",
    "\n",
    "#with open('/ix/djishnu/Alisa/Tfh/Network_analysis/results/taiji_151_nodot_genes.pkl',\"rb\") as fp:\n",
    "#taiji_sig_list = pickle.load(fp)\n",
    "\n",
    "with open('/ix/djishnu/Alisa/Tfh/ForPaper/Taiji_nodot_genes.pkl', 'rb') as fp:\n",
    "    taiji_sig_list = pickle.load(fp)\n",
    "\n",
    "with open('/ix/djishnu/Alisa/Tfh/ForPaper/first_degree_int/taiji_unique_genes.pkl', 'rb') as fp:\n",
    "    taiji_fd = pickle.load(fp)\n",
    "\n",
    "#with open('/ix/djishnu/Alisa/Tfh/Network_analysis/results/taiji_top151_minimum_nodot_unique_genes.pkl', \"rb\") as fp:   # Unpickling\n",
    "#    taiji_fd = pickle.load(fp)\n",
    "\n",
    "    \n",
    "patternb_sig_list = set(patternb_sig_list)\n",
    "patternb_fd = set(patternb_fd)\n",
    "taiji_fd = set(taiji_fd)\n",
    "taiji_sig_list = set(taiji_sig_list)\n",
    "\n",
    "taiji_patternb_list = patternb_sig_list.union(taiji_sig_list)\n",
    "taiji_patternb_fd_list = patternb_fd.union(taiji_fd)"
   ]
  },
  {
   "cell_type": "code",
   "execution_count": 5,
   "id": "8be2e00d-a83c-4e17-b769-2ae369caa0c0",
   "metadata": {},
   "outputs": [],
   "source": [
    "### USE THE EDGE LIST TO FIND ALL EDGES IN THE SIGNIFICANT GENE LISTS\n",
    "ppi = h5py.File('/ix/djishnu/Alisa/Tfh/Network_analysis/data/HomoSapiens_binary_co_complex_Feb2023_1_ppr_0.4.h5', 'r')\n",
    "#list(ppi.keys())\n",
    "data = ppi['edges']"
   ]
  },
  {
   "cell_type": "code",
   "execution_count": 11,
   "id": "00fdd323-2b5b-46de-912e-2f533ebe21aa",
   "metadata": {},
   "outputs": [
    {
     "ename": "AttributeError",
     "evalue": "'Dataset' object has no attribute 'head'",
     "output_type": "error",
     "traceback": [
      "\u001b[0;31m---------------------------------------------------------------------------\u001b[0m",
      "\u001b[0;31mAttributeError\u001b[0m                            Traceback (most recent call last)",
      "\u001b[0;32m<ipython-input-11-304fa4ce4ebd>\u001b[0m in \u001b[0;36m<module>\u001b[0;34m\u001b[0m\n\u001b[0;32m----> 1\u001b[0;31m \u001b[0mdata\u001b[0m\u001b[0;34m.\u001b[0m\u001b[0mhead\u001b[0m\u001b[0;34m(\u001b[0m\u001b[0;34m)\u001b[0m\u001b[0;34m\u001b[0m\u001b[0;34m\u001b[0m\u001b[0m\n\u001b[0m",
      "\u001b[0;31mAttributeError\u001b[0m: 'Dataset' object has no attribute 'head'"
     ]
    }
   ],
   "source": [
    "data.head()"
   ]
  },
  {
   "cell_type": "code",
   "execution_count": 6,
   "id": "c3cef209-073e-4753-930c-765d017ca155",
   "metadata": {},
   "outputs": [],
   "source": [
    "###LOAD PATHWAY OF INTEREST:\n",
    "#PID\n",
    "IL27_path = pd.read_csv(\"/ix/djishnu/Alisa/Tfh/Network_analysis/results/volcano_plots_permutations/PID_IL27_pathway.csv\")\n",
    "\n",
    "#HALLMARK\n",
    "TNFA_path= pd.read_csv(\"/ix/djishnu/Alisa/Tfh/Network_analysis/results/volcano_plots_permutations/Hallmark_TNFA_pathway.csv\")\n",
    "\n",
    "#KEGG\n",
    "CYTOKINE_path= pd.read_csv(\"/ix/djishnu/Alisa/Tfh/Network_analysis/results/volcano_plots_permutations/KEGG-CYTOKINE-CYTOKINE-RECEPTOR-INTERACTION.csv\")\n",
    "\n",
    "#IL23_path = pd.read_csv(\"/ix/djishnu/Alisa/Tfh/Network_analysis/results/volcano_plots_permutations/PID_IL23_pathway.csv\")\n",
    "#IL12_path = pd.read_csv(\"/ix/djishnu/Alisa/Tfh/Network_analysis/results/volcano_plots_permutations/PID_IL12_pathway.csv\")\n",
    "#SMAD_path = pd.read_csv(\"/ix/djishnu/Alisa/Tfh/Network_analysis/results/volcano_plots_permutations/PID_SMAD_pathway.csv\")\n",
    "#SHP2_path = pd.read_csv(\"/ix/djishnu/Alisa/Tfh/Network_analysis/results/volcano_plots_permutations/PID_SHP2_pathway.csv\")\n",
    "#NFAT_path = pd.read_csv(\"/ix/djishnu/Alisa/Tfh/Network_analysis/results/volcano_plots_permutations/PID_NFAT_TF_pathway.csv\")\n",
    "#RB1_path = pd.read_csv(\"/ix/djishnu/Alisa/Tfh/Network_analysis/results/volcano_plots_permutations/PID_RB_1_pathway.csv\")\n",
    "\n",
    "#JAKSTAT_path = pd.read_csv(\"/ix/djishnu/Alisa/Tfh/Network_analysis/results/volcano_plots_permutations/Hallmark_jakstat_pathway.csv\")\n",
    "#IL2_path= pd.read_csv(\"/ix/djishnu/Alisa/Tfh/Network_analysis/results/volcano_plots_permutations/HALLMARK_IL2_STAT5_SIGNALING.csv\")\n"
   ]
  },
  {
   "cell_type": "code",
   "execution_count": 7,
   "id": "958546fb-2a85-424f-bcfd-f75492e88029",
   "metadata": {},
   "outputs": [
    {
     "name": "stdout",
     "output_type": "stream",
     "text": [
      "{'CSF3', 'TNFRSF10D', 'IFNL3', 'IL1A', 'IFNA2', 'CXCL2', 'IL23A', 'PDGFB', 'TNFSF8', 'IL20RA', 'FLT3', 'IL24', 'CCR4', 'PDGFA', 'PRLR', 'TNFRSF6B', 'TNFRSF1B', 'IL21', 'CXCL3', 'NGFR', 'PDGFRB', 'IFNA14', 'IL10RB', 'CD27', 'CXCR4', 'IFNGR1', 'IFNG', 'CCL11', 'INHBB', 'KITLG', 'VEGFC', 'IL4', 'IFNA7', 'TNFSF12', 'FLT3LG', 'TNFSF18', 'CXCL14', 'CCL3L3', 'KDR', 'CCR9', 'CSF2RB', 'EPO', 'LEP', 'TNF', 'TNFRSF13C', 'TGFB3', 'IL12A', 'IL26', 'RELT', 'IFNA1', 'IL2RB', 'VEGFB', 'IFNA13', 'IFNA17', 'CCR3', 'CD70', 'CCL16', 'IL18R1', 'IL19', 'IL4R', 'CCL25', 'TNFSF14', 'CCL3L1', 'XCL2', 'CXCR5', 'IFNA10', 'IL13RA1', 'LTBR', 'CCL24', 'LIFR', 'TNFRSF4', 'IL7R', 'CCL18', 'IL22RA1', 'CXCL13', 'PF4V1', 'IFNGR2', 'LIF', 'ACVR1B', 'IFNAR2', 'CXCL16', 'CSF2', 'TNFRSF1A', 'IL22RA2', 'CCL4L2', 'IL1RAP', 'TNFRSF9', 'IFNK', 'TNFRSF11B', 'CX3CR1', 'IL5RA', 'CCL2', 'IFNA16', 'TNFRSF10A', 'XCL1', 'CCL20', 'IL25', 'CCR10', 'IL11', 'AMH', 'CCR2', 'IL20', 'CCR7', 'IL6R', 'TNFRSF10B', 'CD40LG', 'CXCL8', 'TNFSF10', 'PPBPP1', 'BMPR1A', 'IFNAR1', 'TGFB2', 'PPBP', 'CCR6', 'MET', 'CCL27', 'CCL4', 'CCL7', 'GDF5', 'IL17RB', 'IL2RG', 'CCR8', 'IFNA8', 'TNFSF11', 'IL22', 'CCL13', 'TNFRSF13B', 'FLT4', 'LTB', 'TNFSF15', 'TNFSF4', 'CCL15', 'AMHR2', 'IL12B', 'IL7', 'VEGFD', 'ACVR1', 'CX3CL1', 'EGFR', 'TNFRSF8', 'CSF2RA', 'IL2', 'BMPR1B', 'CXCR3', 'IL18', 'IL10', 'ACVR2A', 'INHBE', 'TNFSF9', 'CXCL6', 'FASLG', 'CCL17', 'CXCL12', 'TNFRSF25', 'CCL26', 'CNTF', 'IL13', 'IL6', 'CCL19', 'CXCR6', 'XCR1', 'IFNE', 'IFNA4', 'CCL1', 'GHR', 'TNFRSF12A', 'TGFB1', 'CCL8', 'IL1R2', 'EGF', 'IFNLR1', 'IL23R', 'EPOR', 'LTA', 'CCL23', 'IL15', 'IL17RA', 'CCL28', 'PDGFC', 'IL12RB2', 'TNFRSF10C', 'EDA2R', 'KIT', 'TPO', 'TNFSF13', 'IL15RA', 'IL12RB1', 'TGFBR1', 'LEPR', 'PLEKHO2', 'TNFRSF11A', 'TNFRSF18', 'IL21R', 'TNFRSF14', 'CSF3R', 'IL11RA', 'CXCL10', 'CD40', 'IFNW1', 'TNFRSF21', 'CCR1', 'IL3', 'CCL3', 'CRLF2', 'CSF1', 'CCL21', 'BMP2', 'CNTFR', 'CXCR2', 'IFNL2', 'ACVR2B', 'EDA', 'MPL', 'TGFBR2', 'IL17B', 'IL5', 'IL17A', 'CXCL1', 'IL2RA', 'TSLP', 'IL9R', 'FLT1', 'CCL22', 'BMPR2', 'IL6ST', 'IL1R1', 'IFNB1', 'GH1', 'IFNA6', 'OSM', 'TNFSF13B', 'GH2', 'INHBA', 'PF4', 'TNFRSF17', 'TNFRSF19', 'IL18RAP', 'ACVRL1', 'CSF1R', 'CTF1', 'BMP7', 'CXCL5', 'VEGFA', 'IFNA21', 'IL3RA', 'CCL14', 'CCR5', 'FAS', 'CXCL11', 'PDGFRA', 'IL1B', 'CCL5', 'IFNL1', 'CLCF1', 'CXCR1', 'EDAR', 'IL10RA', 'IL20RB', 'IL9', 'CXCL9', 'PRL', 'HGF', 'IFNA5', 'OSMR', 'INHBC'}\n"
     ]
    }
   ],
   "source": [
    "IL27_genes = set(IL27_path['human_gene_symbol'])\n",
    "TNFA_genes = set(TNFA_path['human_gene_symbol'])\n",
    "CYTOKINE_genes = set(CYTOKINE_path['human_gene_symbol'])\n",
    "\n",
    "#IL23_genes = set(IL23_path['human_gene_symbol'])\n",
    "#JAKSTAT_genes = set(JAKSTAT_path['human_gene_symbol'])\n",
    "#IL12_genes = set(IL12_path['human_gene_symbol'])\n",
    "\n",
    "#SMAD_genes = set(SMAD_path['human_gene_symbol'])\n",
    "#SHP2_genes = set(SHP2_path['human_gene_symbol'])\n",
    "\n",
    "#NFAT_genes = set(NFAT_path['human_gene_symbol'])\n",
    "#RB1_genes = set(RB1_path['human_gene_symbol'])\n",
    "#IL2_genes = set(IL2_path['human_gene_symbol'])\n",
    "print(CYTOKINE_genes)"
   ]
  },
  {
   "cell_type": "code",
   "execution_count": 8,
   "id": "ae4f01fb-9436-4cdd-83a3-e028cd8729ae",
   "metadata": {},
   "outputs": [
    {
     "name": "stdout",
     "output_type": "stream",
     "text": [
      "Saving files ...\n"
     ]
    }
   ],
   "source": [
    "IL27_fd_taiji = first_degree_goldstand_set(IL27_genes, taiji_patternb_list, taiji_patternb_fd_list, data, save='on', output='network_sets_for_cytoscape/PID_IL27_pathway_taiji_patternb')"
   ]
  },
  {
   "cell_type": "code",
   "execution_count": 9,
   "id": "689eefad-2d7f-4033-8227-546e4bb2422d",
   "metadata": {},
   "outputs": [
    {
     "name": "stdout",
     "output_type": "stream",
     "text": [
      "Saving files ...\n"
     ]
    }
   ],
   "source": [
    "CYTOKINE_fd_taiji = first_degree_goldstand_set(CYTOKINE_genes, taiji_patternb_list, taiji_patternb_fd_list, data, save='on', output='network_sets_for_cytoscape/KEGG_CYTOKINE_genes_pathway_taiji_patternb')"
   ]
  },
  {
   "cell_type": "code",
   "execution_count": 10,
   "id": "494779e1-257e-4cd8-8ee8-0b651c2a9a15",
   "metadata": {},
   "outputs": [
    {
     "name": "stdout",
     "output_type": "stream",
     "text": [
      "Saving files ...\n"
     ]
    }
   ],
   "source": [
    "TNFA_fd_taiji = first_degree_goldstand_set(TNFA_genes, taiji_patternb_list, taiji_patternb_fd_list, data, save='on', output='network_sets_for_cytoscape/PID_TNFA_pathway_taiji_patternb')"
   ]
  },
  {
   "cell_type": "code",
   "execution_count": 13,
   "id": "1830a717-4c2d-41ef-bd7f-252614ba3cbb",
   "metadata": {},
   "outputs": [
    {
     "name": "stdout",
     "output_type": "stream",
     "text": [
      "Saving files ...\n",
      "Saving files ...\n",
      "Saving files ...\n",
      "Saving files ...\n"
     ]
    }
   ],
   "source": [
    "#jakstat_fd_taiji = first_degree_goldstand_set(jak_stat_genes, taiji_patternb_list, taiji_patternb_fd_list, data, save='on', output='network_sets_for_cytoscape/HALLMARK_JAK_STAT_pathway_taiji_patternb')\n",
    "#IL23_fd_taiji = first_degree_goldstand_set(IL23_genes, taiji_patternb_list, taiji_patternb_fd_list, data, save='on', output='network_sets_for_cytoscape/PID_IL23_pathway_taiji_patternb')\n",
    "#IL2_fd = first_degree_goldstand_set(IL2_genes, taiji_patternb_list, taiji_patternb_fd_list, data, save='on', output='network_sets_for_cytoscape/HALMARK_IL2_pathway_taiji_patternb')\n",
    "\n",
    "#SMAD_fd_taiji = first_degree_goldstand_set(SMAD_genes, taiji_patternb_list, taiji_patternb_fd_list, data, save='on', output='network_sets_for_cytoscape/PID_SMAD_pathway_taiji_patternb')\n",
    "#SHP2_fd_taiji = first_degree_goldstand_set(SHP2_genes, taiji_patternb_list, taiji_patternb_fd_list, data, save='on', output='network_sets_for_cytoscape/PID_SHP2_pathway_taiji_patternb')\n",
    "#TNFA_fd_taiji = first_degree_goldstand_set(TNFA_genes, taiji_patternb_list, taiji_patternb_fd_list, data, save='on', output='network_sets_for_cytoscape/PID_TNFA_pathway_taiji_patternb')\n",
    "#NFAT_fd_taiji = first_degree_goldstand_set(SMAD_genes, taiji_patternb_list, taiji_patternb_fd_list, data, save='on', output='network_sets_for_cytoscape/NFAT_SMAD_pathway_taiji_patternb')\n",
    "#IL12_fd_taiji = first_degree_goldstand_set(IL12_genes, taiji_patternb_list, taiji_patternb_fd_list, data, save='on', output='network_sets_for_cytoscape/PID_IL12_pathway_taiji_patternb')\n",
    "\n",
    "\n",
    "\n"
   ]
  },
  {
   "cell_type": "code",
   "execution_count": null,
   "id": "f28e011b-29bd-471f-91a9-04e621a069fb",
   "metadata": {},
   "outputs": [],
   "source": []
  }
 ],
 "metadata": {
  "kernelspec": {
   "display_name": "Python 3",
   "language": "python",
   "name": "python3"
  },
  "language_info": {
   "codemirror_mode": {
    "name": "ipython",
    "version": 3
   },
   "file_extension": ".py",
   "mimetype": "text/x-python",
   "name": "python",
   "nbconvert_exporter": "python",
   "pygments_lexer": "ipython3",
   "version": "3.8.8"
  }
 },
 "nbformat": 4,
 "nbformat_minor": 5
}
