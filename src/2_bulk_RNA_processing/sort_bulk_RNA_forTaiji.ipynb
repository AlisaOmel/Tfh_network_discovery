{
 "cells": [
  {
   "cell_type": "code",
   "execution_count": 1,
   "id": "b8a4060c-308d-490e-83a5-087543ef44ab",
   "metadata": {},
   "outputs": [],
   "source": [
    "import pandas as pd "
   ]
  },
  {
   "cell_type": "code",
   "execution_count": 2,
   "id": "3d80f0a9-194d-4dd8-855b-8f1bca1a04ac",
   "metadata": {},
   "outputs": [],
   "source": [
    "header = ['Naive_1', 'Naive_2', 'Naive_3', 'Naive_4', 'Early_Pre-TFH_1', 'Early_Pre-TFH_2', 'Early_Pre-TFH_3', 'Early_Pre-TFH_4', 'Late_Pre-TFH_1', 'Late_Pre-TFH_2', 'Late_Pre-TFH_3', 'Late_Pre-TFH_4', 'GC_1', 'GC_2', 'GC_3', 'GC_4']\n",
    "\n",
    "rna_seq = pd.read_csv('/ix/djishnu/Alisa/Tfh/Run_313.atac-seq-correl.rsem.pe.hg38.ensembl.counts.matrix.results.normalized_data_matrix', skiprows = [0], names=header, sep ='\\t')\n",
    "rna_seq = rna_seq.reset_index()\n",
    "\n",
    "rna_seq = rna_seq.rename(columns={'index': \"Gene\"})\n",
    "rna_seq[['Gene_ID', 'Gene_Name']] = rna_seq.Gene.str.split(\"_\",n=1, expand=True)"
   ]
  },
  {
   "cell_type": "code",
   "execution_count": null,
   "id": "fe011d2c-fe38-44f3-ac50-0ca0f9ab1e00",
   "metadata": {},
   "outputs": [],
   "source": [
    "for state in header:\n",
    "        rna_df = rna_seq[['Gene_Name','{0}'.format(state)]]\n",
    "        rna_df.to_csv('/ix/djishnu/Alisa/Tfh/Raw_Files/rnaseq/separated_tsv/{0}.tsv'.format(state), sep = '\\t', index=False, header=None)"
   ]
  },
  {
   "cell_type": "code",
   "execution_count": null,
   "id": "1e634a1d-f25c-496c-85a0-469607d47740",
   "metadata": {},
   "outputs": [],
   "source": [
    "gc = pd.read_csv('/ix/djishnu/Alisa/Tfh/Raw_Files/rnaseq/separated_tsv/GC_1.tsv', sep = '\\t', header = None)"
   ]
  }
 ],
 "metadata": {
  "kernelspec": {
   "display_name": "Python 3",
   "language": "python",
   "name": "python3"
  },
  "language_info": {
   "codemirror_mode": {
    "name": "ipython",
    "version": 3
   },
   "file_extension": ".py",
   "mimetype": "text/x-python",
   "name": "python",
   "nbconvert_exporter": "python",
   "pygments_lexer": "ipython3",
   "version": "3.8.8"
  }
 },
 "nbformat": 4,
 "nbformat_minor": 5
}
