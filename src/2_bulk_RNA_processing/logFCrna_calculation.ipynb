{
 "cells": [
  {
   "cell_type": "code",
   "execution_count": 37,
   "id": "1630d3e3-d950-4456-89a1-365940889368",
   "metadata": {},
   "outputs": [],
   "source": [
    "import pandas as pd\n",
    "from scipy.stats import zscore\n",
    "import seaborn as sns\n",
    "from scipy.cluster.hierarchy import fcluster\n",
    "import numpy as np"
   ]
  },
  {
   "cell_type": "code",
   "execution_count": 38,
   "id": "3f3c762f-1eb5-4cec-9cc9-76d1decf320a",
   "metadata": {},
   "outputs": [],
   "source": [
    "header = ['Naive 1', 'Naive 2', 'Naive 3', 'Naive 4', 'Early Pre-TFH 1', 'Early Pre-TFH 2', 'Early Pre-TFH 3', 'Early Pre-TFH 4', 'Late Pre-TFH 1', 'Late Pre-TFH 2', 'Late Pre-TFH 3', 'Late Pre-TFH 4', 'GC 1', 'GC 2', 'GC 3', 'GC 4']\n",
    "\n",
    "rna_seq = pd.read_csv('/ix/djishnu/Alisa/Tfh/Run_313.atac-seq-correl.rsem.pe.hg38.ensembl.counts.matrix.results.normalized_data_matrix', skiprows = [0], names=header, sep ='\\t')\n",
    "rna_seq = rna_seq.reset_index()\n",
    "\n",
    "rna_seq = rna_seq.rename(columns={'index': \"Gene\"})\n",
    "rna_seq[['Gene_ID', 'Genes']] = rna_seq.Gene.str.split(\"_\",n=1, expand=True)"
   ]
  },
  {
   "cell_type": "code",
   "execution_count": 39,
   "id": "c8ae34c2-cd5a-45fd-ba06-1ec274aad6a7",
   "metadata": {},
   "outputs": [],
   "source": [
    "rna_seq['ATAC_Naive'] = rna_seq[['Naive 1', 'Naive 2', 'Naive 3', 'Naive 4']].mean(axis=1) + 0.000001\n",
    "rna_seq['ATAC_Early_Pre-TFH'] = rna_seq[['Early Pre-TFH 1', 'Early Pre-TFH 2', 'Early Pre-TFH 3', 'Early Pre-TFH 4']].mean(axis=1) + 0.000001\n",
    "rna_seq['ATAC_Late_Pre-TFH'] = rna_seq[['Late Pre-TFH 1', 'Late Pre-TFH 2', 'Late Pre-TFH 3', 'Late Pre-TFH 4']].mean(axis=1) + 0.000001\n",
    "rna_seq['ATAC_GC'] = rna_seq[['GC 1', 'GC 2', 'GC 3', 'GC 4']].mean(axis=1) + 0.000001\n",
    "rna_seq_mean = rna_seq[['Genes', 'ATAC_Naive','ATAC_Early_Pre-TFH', 'ATAC_Late_Pre-TFH', 'ATAC_GC']]"
   ]
  },
  {
   "cell_type": "code",
   "execution_count": 40,
   "id": "95f79cfa-2cd5-4229-b251-0f0ab2b073de",
   "metadata": {},
   "outputs": [],
   "source": [
    "rna_seq_mean = rna_seq_mean.set_index('Genes')"
   ]
  },
  {
   "cell_type": "code",
   "execution_count": 41,
   "id": "a4af0d43-1123-4877-ac2e-b0e7950f238b",
   "metadata": {},
   "outputs": [
    {
     "name": "stdout",
     "output_type": "stream",
     "text": [
      "               Genes  LogChange\n",
      "0             TSPAN6 -17.554026\n",
      "1               TNMD   0.000000\n",
      "2               DPM1  -0.131166\n",
      "3              SCYL3   2.485725\n",
      "4           C1orf112  -2.487404\n",
      "...              ...        ...\n",
      "60670  CTD-2060L22.1 -16.784421\n",
      "60671   RP11-107E5.4   0.000000\n",
      "60672          HYMAI  20.806715\n",
      "60673     RARRES2P11   0.000000\n",
      "60674   RP11-299P2.2   0.000000\n",
      "\n",
      "[60675 rows x 2 columns]\n"
     ]
    }
   ],
   "source": [
    "rna_seq_mean['LogChange'] = np.log2(np.divide(rna_seq_mean[\"ATAC_GC\"],rna_seq_mean[\"ATAC_Early_Pre-TFH\"]))\n",
    "rna_seq_mean = rna_seq_mean.reset_index()\n",
    "\n",
    "#rna_seq_mean_filtered = rna_seq_mean[rna_seq_mean['total'] > threshold]\n",
    "#print(rna_seq_mean_filtered)\n",
    "rna_seq_sign_change = rna_seq_mean[['Genes', 'LogChange']]\n",
    "print(rna_seq_sign_change)"
   ]
  },
  {
   "cell_type": "code",
   "execution_count": 42,
   "id": "ee23ac87-91d7-4691-bdee-5920b40476ef",
   "metadata": {},
   "outputs": [
    {
     "name": "stdout",
     "output_type": "stream",
     "text": [
      "     Genes  ATAC_Naive  ATAC_Early_Pre-TFH  ATAC_Late_Pre-TFH     ATAC_GC  \\\n",
      "4239  BCL6   66.066535           91.347667         358.027455  403.335255   \n",
      "\n",
      "      LogChange  \n",
      "4239    2.14254  \n"
     ]
    }
   ],
   "source": [
    "#Check direction:\n",
    "print(rna_seq_mean[rna_seq_mean['Genes']=='BCL6'])"
   ]
  },
  {
   "cell_type": "code",
   "execution_count": null,
   "id": "da93dad0-a8ad-4d71-a4ad-4be83922dc96",
   "metadata": {},
   "outputs": [],
   "source": [
    "rna_seq_sign_change.to_csv('/ix3/djishnu/Alisa/Tfh/correct_direction_sign_change_rna_earlyvsGC_log2FC.csv')"
   ]
  },
  {
   "cell_type": "code",
   "execution_count": 43,
   "id": "44926396-093d-4ecc-95fa-f983ab32523b",
   "metadata": {},
   "outputs": [],
   "source": [
    "#Cap the LogFC values at abs(2):\n",
    "log_change_thresh = []\n",
    "\n",
    "for x in rna_seq_sign_change['LogChange']:\n",
    "    if x <= -2:\n",
    "        log_change_thresh.append(-2)\n",
    "    if x >=2:\n",
    "        log_change_thresh.append(2)\n",
    "    if -2 < x < 2:\n",
    "        log_change_thresh.append(x)\n",
    "\n",
    "rna_seq_sign_change['LogChange_Thresh'] = log_change_thresh\n"
   ]
  },
  {
   "cell_type": "code",
   "execution_count": null,
   "id": "613e4791-c492-4bc2-90eb-189d530527d8",
   "metadata": {},
   "outputs": [],
   "source": [
    "rna_seq_sign_change.to_csv('/ix3/djishnu/Alisa/Tfh/correct_direction_sign_change_rna_earlyvsGC_Thresh_log2FC.csv')"
   ]
  },
  {
   "cell_type": "code",
   "execution_count": null,
   "id": "11798c74-c773-4ffc-a3c9-08a65d38aa19",
   "metadata": {},
   "outputs": [],
   "source": [
    "#Remove the lowest 10%:\n",
    "rna_seq_mean[\"total\"]= rna_seq_mean.mean(axis=1)\n",
    "threshold = rna_seq_mean['total'].quantile(0.10)\n",
    "\n",
    "filtered_df = rna_seq_mean[rna_seq_mean['total'] > threshold]"
   ]
  },
  {
   "cell_type": "code",
   "execution_count": null,
   "id": "6b470397-110d-4401-83a0-761426db61f9",
   "metadata": {},
   "outputs": [],
   "source": [
    "# Function to map column names to scores\n",
    "def map_to_scores(column_name):\n",
    "    column_mapping = {'ATAC_Naive': 0, 'ATAC_Early_Pre-TFH': 1, 'ATAC_Late_Pre-TFH': 2, 'ATAC_GC': 3}\n",
    "    return column_mapping[column_name]\n",
    "\n",
    "max_columns = filtered_df.idxmax(axis=1)\n",
    "\n",
    "# Map the column names to scores, and make a state specific label:\n",
    "filtered_df['State'] = max_columns.apply(map_to_scores)\n",
    "filtered_df.to_csv('/ix/djishnu/Alisa/Tfh/ForPaper/rna_state_specific.csv')\n",
    "\n",
    "print(filtered_df)"
   ]
  }
 ],
 "metadata": {
  "kernelspec": {
   "display_name": "Python 3",
   "language": "python",
   "name": "python3"
  },
  "language_info": {
   "codemirror_mode": {
    "name": "ipython",
    "version": 3
   },
   "file_extension": ".py",
   "mimetype": "text/x-python",
   "name": "python",
   "nbconvert_exporter": "python",
   "pygments_lexer": "ipython3",
   "version": "3.8.8"
  }
 },
 "nbformat": 4,
 "nbformat_minor": 5
}
