{
 "cells": [
  {
   "cell_type": "code",
   "execution_count": 2,
   "id": "b8a4060c-308d-490e-83a5-087543ef44ab",
   "metadata": {
    "tags": []
   },
   "outputs": [],
   "source": [
    "import pandas as pd "
   ]
  },
  {
   "cell_type": "code",
   "execution_count": 6,
   "id": "3d80f0a9-194d-4dd8-855b-8f1bca1a04ac",
   "metadata": {
    "tags": []
   },
   "outputs": [],
   "source": [
    "header = ['Naive_1', 'Naive_2', 'Naive_3', 'Naive_4', 'Early_Pre-TFH_1', 'Early_Pre-TFH_2', 'Early_Pre-TFH_3', 'Early_Pre-TFH_4', 'Late_Pre-TFH_1', 'Late_Pre-TFH_2', 'Late_Pre-TFH_3', 'Late_Pre-TFH_4', 'GC_1', 'GC_2', 'GC_3', 'GC_4']\n",
    "\n",
    "rna_seq = pd.read_csv('../../Input_data/Run_313.atac-seq-correl.rsem.pe.hg38.ensembl.counts.matrix.results.normalized_data_matrix.tsv', skiprows = [0], names=header, sep ='\\t')\n",
    "rna_seq = rna_seq.reset_index()\n",
    "\n",
    "rna_seq = rna_seq.rename(columns={'index': \"Gene\"})\n",
    "rna_seq[['Gene_ID', 'Gene_Name']] = rna_seq.Gene.str.split(\"_\",n=1, expand=True)"
   ]
  },
  {
   "cell_type": "code",
   "execution_count": 13,
   "id": "fe011d2c-fe38-44f3-ac50-0ca0f9ab1e00",
   "metadata": {
    "tags": []
   },
   "outputs": [],
   "source": [
    "for state in header:\n",
    "        rna_df = rna_seq[['Gene_Name','{0}'.format(state)]]\n",
    "        rna_df.to_csv('../../Sample_outputs/sorted_bulk/separated_tsv/{0}.tsv'.format(state), sep = '\\t', index=False, header=None)"
   ]
  },
  {
   "cell_type": "code",
   "execution_count": 15,
   "id": "1e634a1d-f25c-496c-85a0-469607d47740",
   "metadata": {
    "tags": []
   },
   "outputs": [],
   "source": [
    "gc = pd.read_csv('../../Sample_outputs/sorted_bulk/separated_tsv/GC_1.tsv', sep = '\\t', header = None)"
   ]
  },
  {
   "cell_type": "code",
   "execution_count": 16,
   "id": "7119f233-57ce-49fd-aca5-40104dfec55b",
   "metadata": {
    "tags": []
   },
   "outputs": [
    {
     "data": {
      "text/html": [
       "<div>\n",
       "<style scoped>\n",
       "    .dataframe tbody tr th:only-of-type {\n",
       "        vertical-align: middle;\n",
       "    }\n",
       "\n",
       "    .dataframe tbody tr th {\n",
       "        vertical-align: top;\n",
       "    }\n",
       "\n",
       "    .dataframe thead th {\n",
       "        text-align: right;\n",
       "    }\n",
       "</style>\n",
       "<table border=\"1\" class=\"dataframe\">\n",
       "  <thead>\n",
       "    <tr style=\"text-align: right;\">\n",
       "      <th></th>\n",
       "      <th>0</th>\n",
       "      <th>1</th>\n",
       "    </tr>\n",
       "  </thead>\n",
       "  <tbody>\n",
       "    <tr>\n",
       "      <th>0</th>\n",
       "      <td>TSPAN6</td>\n",
       "      <td>0.000000</td>\n",
       "    </tr>\n",
       "    <tr>\n",
       "      <th>1</th>\n",
       "      <td>TNMD</td>\n",
       "      <td>0.000000</td>\n",
       "    </tr>\n",
       "    <tr>\n",
       "      <th>2</th>\n",
       "      <td>DPM1</td>\n",
       "      <td>15.690793</td>\n",
       "    </tr>\n",
       "    <tr>\n",
       "      <th>3</th>\n",
       "      <td>SCYL3</td>\n",
       "      <td>3.033553</td>\n",
       "    </tr>\n",
       "    <tr>\n",
       "      <th>4</th>\n",
       "      <td>C1orf112</td>\n",
       "      <td>3.068422</td>\n",
       "    </tr>\n",
       "    <tr>\n",
       "      <th>...</th>\n",
       "      <td>...</td>\n",
       "      <td>...</td>\n",
       "    </tr>\n",
       "    <tr>\n",
       "      <th>60670</th>\n",
       "      <td>CTD-2060L22.1</td>\n",
       "      <td>0.000000</td>\n",
       "    </tr>\n",
       "    <tr>\n",
       "      <th>60671</th>\n",
       "      <td>RP11-107E5.4</td>\n",
       "      <td>0.000000</td>\n",
       "    </tr>\n",
       "    <tr>\n",
       "      <th>60672</th>\n",
       "      <td>HYMAI</td>\n",
       "      <td>0.000000</td>\n",
       "    </tr>\n",
       "    <tr>\n",
       "      <th>60673</th>\n",
       "      <td>RARRES2P11</td>\n",
       "      <td>0.000000</td>\n",
       "    </tr>\n",
       "    <tr>\n",
       "      <th>60674</th>\n",
       "      <td>RP11-299P2.2</td>\n",
       "      <td>0.000000</td>\n",
       "    </tr>\n",
       "  </tbody>\n",
       "</table>\n",
       "<p>60675 rows × 2 columns</p>\n",
       "</div>"
      ],
      "text/plain": [
       "                   0          1\n",
       "0             TSPAN6   0.000000\n",
       "1               TNMD   0.000000\n",
       "2               DPM1  15.690793\n",
       "3              SCYL3   3.033553\n",
       "4           C1orf112   3.068422\n",
       "...              ...        ...\n",
       "60670  CTD-2060L22.1   0.000000\n",
       "60671   RP11-107E5.4   0.000000\n",
       "60672          HYMAI   0.000000\n",
       "60673     RARRES2P11   0.000000\n",
       "60674   RP11-299P2.2   0.000000\n",
       "\n",
       "[60675 rows x 2 columns]"
      ]
     },
     "execution_count": 16,
     "metadata": {},
     "output_type": "execute_result"
    }
   ],
   "source": [
    "gc"
   ]
  },
  {
   "cell_type": "code",
   "execution_count": null,
   "id": "3fcfd4d8-c621-4994-99f8-fc61bc69dc6b",
   "metadata": {},
   "outputs": [],
   "source": []
  }
 ],
 "metadata": {
  "kernelspec": {
   "display_name": "Python 3 (ipykernel)",
   "language": "python",
   "name": "python3"
  },
  "language_info": {
   "codemirror_mode": {
    "name": "ipython",
    "version": 3
   },
   "file_extension": ".py",
   "mimetype": "text/x-python",
   "name": "python",
   "nbconvert_exporter": "python",
   "pygments_lexer": "ipython3",
   "version": "3.11.5"
  }
 },
 "nbformat": 4,
 "nbformat_minor": 5
}
