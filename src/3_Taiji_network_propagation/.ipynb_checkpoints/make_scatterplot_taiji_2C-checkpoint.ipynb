{
 "cells": [
  {
   "cell_type": "code",
   "execution_count": 10,
   "id": "13c10235-ded0-450c-b941-e5b4ab25e1c8",
   "metadata": {
    "tags": []
   },
   "outputs": [],
   "source": [
    "import pandas as pd\n",
    "import numpy as np\n",
    "import matplotlib.gridspec\n",
    "import matplotlib.cm as cm\n",
    "import matplotlib.pyplot as plt\n",
    "from matplotlib.colors import TwoSlopeNorm\n",
    "from adjustText import adjust_text"
   ]
  },
  {
   "cell_type": "code",
   "execution_count": 11,
   "id": "886cac5f-e633-4921-b711-a69759aa11b9",
   "metadata": {
    "tags": []
   },
   "outputs": [],
   "source": [
    "#Load in all genes from the analysis\n",
    "taiji_genes = pd.read_csv('/ix/djishnu/Alisa/Tfh/ForPaper/processed_Taiji/final_genes_all_sets_ALLGENES.csv')\n",
    "taiji_genes_set = set(taiji_genes['Genes'])"
   ]
  },
  {
   "cell_type": "code",
   "execution_count": 12,
   "id": "909b5930-a8a3-4c77-95ba-1eb07c8d0425",
   "metadata": {
    "tags": []
   },
   "outputs": [],
   "source": [
    "#Load in the LogFC RNA seq:\n",
    "#Load in Taiji results from all ranks. \n",
    "atac_genes = pd.read_csv('/ix/djishnu/Alisa/Tfh/Taiji/ATAC_RNA/output_atac/GeneRanks.tsv', sep='\\t').rename(columns={'Unnamed: 0':\"Genes\", \"Early_Pre_TFH\":'Early Extra-GC', 'Late_Pre_TFH': 'Late Extra-GC'}).set_index(\"Genes\")\n",
    "H3K4me1_genes = pd.read_csv('/ix/djishnu/Alisa/Tfh/Taiji/CUTnRUN_H3K4me1_RNA/output_cutnrun/GeneRanks.tsv', sep='\\t').rename(columns={'Unnamed: 0':\"Genes\", 'CXCR5pos_PD1neg': 'Early Extra-GC', 'CXCR5pos_PD1int': 'Late Extra-GC', 'CXCR5hi_PD1hi': 'GC'}).set_index(\"Genes\")\n",
    "H3K4me3_genes = pd.read_csv('/ix/djishnu/Alisa/Tfh/Taiji/CUTnRUN_H3K4me3_RNA/output_cutnrun/GeneRanks.tsv', sep='\\t').rename(columns={'Unnamed: 0':\"Genes\", 'CXCR5pos_PD1neg': 'Early Extra-GC', 'CXCR5pos_PD1int': 'Late Extra-GC', 'CXCR5hi_PD1hi': 'GC'}).set_index(\"Genes\")\n",
    "H3K27Ac_genes = pd.read_csv('/ix/djishnu/Alisa/Tfh/Taiji/CUTnRUN_H3K27Ac_RNA/output_cutnrun/GeneRanks.tsv', sep='\\t').rename(columns={'Unnamed: 0':\"Genes\", 'CXCR5pos_PD1neg': 'Early Extra-GC', 'CXCR5pos_PD1int': 'Late Extra-GC', 'CXCR5hi_PD1hi': 'GC'}).set_index(\"Genes\")\n",
    "\n",
    "# Concatenate and compute mean across available values\n",
    "average_df = pd.concat([atac_genes, H3K4me1_genes, H3K4me3_genes, H3K27Ac_genes]).groupby(level=0).mean()\n",
    "average_df = average_df.reset_index()\n",
    "average_df = average_df[[\"Genes\", \"Naive\", \"Early Extra-GC\", \"Late Extra-GC\", \"GC\"]]\n",
    "\n",
    "logfc_df = pd.read_csv('/ix3/djishnu/Alisa/Tfh/correct_direction_sign_change_rna_earlyvsGC_Thresh_log2FC.csv')\n",
    "merged_df = average_df.merge(logfc_df, on='Genes', how='left')\n"
   ]
  },
  {
   "cell_type": "code",
   "execution_count": 13,
   "id": "7665f1de-078c-49c9-9433-1cc72cb55137",
   "metadata": {
    "tags": []
   },
   "outputs": [],
   "source": [
    "#Calculate Taiji Rank Importance\n",
    "merged_df['Importance'] = np.log2(merged_df['GC'] / merged_df['Early Extra-GC'])\n",
    "merged_df = merged_df.set_index(\"Genes\")"
   ]
  },
  {
   "cell_type": "code",
   "execution_count": null,
   "id": "01639306-c0a4-4622-bb13-342019b8e7e2",
   "metadata": {
    "tags": []
   },
   "outputs": [
    {
     "name": "stdout",
     "output_type": "stream",
     "text": [
      "{'NR2F6', 'ZNF460', 'SP1', 'NFATC1', 'RORA', 'ZNF274', 'ZNF384', 'FOSB', 'RREB1', 'ATF4', 'ZSCAN30', 'MEF2C', 'E2F4', 'SATB1', 'KLF9', 'ZNF467', 'DNMT1', 'POU2F1', 'TCF12', 'ZBTB17', 'ZNF121', 'ZNF519', 'IRF2', 'ZNF891', 'SP4', 'ZNF281', 'ZEB1', 'ZNF143', 'ZNF76', 'ATF6B', 'ZBTB33', 'RUNX1', 'ZNF571', 'FOXO3', 'ZNF484', 'GATA3', 'FOXO1', 'HSF1', 'NFATC2', 'SP2', 'NR4A2', 'ELK3', 'KLF6', 'FOXK1', 'ZNF333', 'NR3C1', 'ZNF331', 'NFAT5', 'KLF13', 'ZNF394', 'ZNF100', 'HIF1A', 'ZFX', 'ZNF354A', 'FOXN3', 'YY1', 'ZNF22', 'GTF2B', 'IRF3', 'NFYA', 'THAP11', 'ZFP82', 'IRF8', 'FOXJ2', 'IRF1', 'FOSL2', 'MEF2A', 'KLF4', 'LEF1', 'ETS1', 'SPIB', 'ELF1', 'VEZF1', 'NFYB', 'BCL11A', 'NFYC', 'ZNF548', 'IRF7', 'RFX5', 'SOX4', 'KLF7', 'TCF7', 'NR4A1', 'ZNF713', 'STAT6', 'ZSCAN22', 'POU2F2', 'GABPA', 'IRF4', 'ZNF354C', 'MAF', 'MEF2D', 'BCL6', 'GTF2I', 'EGR2', 'IKZF3', 'ZNF776', 'ZNF783', 'IRF9', 'ZNF322', 'CREM', 'SREBF2', 'STAT3', 'ZNF543', 'PRDM1', 'ZNF182', 'NRF1', 'KLF2', 'FOS', 'ZNF180', 'ELK4', 'KLF12', 'ETV6', 'EGR1', 'IKZF1', 'ZNF200', 'BATF', 'REL', 'TGIF1', 'ZNF557', 'CTCF', 'ELF2', 'PBX3', 'FLI1', 'STAT2', 'RELA', 'ZNF611', 'KLF10', 'ZNF441', 'ELK1', 'MZF1', 'ZNF148', 'KLF3', 'CREB1', 'AHR', 'ATF3', 'JUN', 'SP3', 'ZNF766', 'ZNF341', 'ZNF770', 'YBX1', 'ELF4', 'HMGA1', 'JUNB', 'JUND', 'MAZ', 'PAX5', 'FOXJ3', 'REST', 'ZNF267', 'ZNF846'}\n"
     ]
    },
    {
     "data": {
      "text/plain": [
       "<matplotlib.legend.Legend at 0x7f71567c2ad0>"
      ]
     },
     "execution_count": 14,
     "metadata": {},
     "output_type": "execute_result"
    }
   ],
   "source": [
    "# Load the gene list for highlighting (e.g., 'target genes')\n",
    "\n",
    "taiji_genes = pd.read_csv('/ix/djishnu/Alisa/Tfh/ForPaper/processed_Taiji/final_genes_all_sets_ALLGENES.csv')\n",
    "taiji_genes_set = set(taiji_genes['Genes'])\n",
    "\n",
    "# Load the p-value filtered list (e.g., significant genes only)\n",
    "pval_filtered_df = pd.read_csv(\"/ix/djishnu/Alisa/Tfh/ForPaper/processed_Taiji/final_genes_all_sets_152.csv\")  # One column: 'Gene'\n",
    "significant_genes = set(pval_filtered_df['Genes'])\n",
    "print(significant_genes)\n",
    "\n",
    "\n",
    "\n",
    "# Categorize genes\n",
    "def assign_color(gene):\n",
    "    if gene in significant_genes:\n",
    "        return '#56B4E9'            # In the highlight list\n",
    "           # Failed p-value filter\n",
    "    if gene in taiji_genes_set:\n",
    "        return \"#E69F00\"\n",
    "    else:\n",
    "        return 'grey'       # Other\n",
    "\n",
    "# Assume merged_df index is gene names\n",
    "merged_df['Color'] = merged_df.index.map(assign_color)\n",
    "\n",
    "# Plot\n",
    "fig = plt.figure(figsize=(10, 10))\n",
    "\n",
    "sc = plt.scatter(\n",
    "    merged_df['Importance'],\n",
    "    merged_df['LogChange_Thresh'],\n",
    "    c=merged_df['Color'],\n",
    "    edgecolor='k',\n",
    "    alpha=0.7,\n",
    "    s=100\n",
    ")\n",
    "\n",
    "plt.axhline(0, linestyle='--', color='gray')\n",
    "plt.axvline(0, linestyle='--', color='gray')\n",
    "plt.ylabel('log2FC (GC / Early Extra-GC Tfh)', fontsize=20)\n",
    "plt.xlabel('log2FC (GC Taiji Rank/Early Extra GC Tfh Taiji Rank))', fontsize=20)\n",
    "\n",
    "plt.tick_params(axis='both', labelsize=18)\n",
    "\n",
    "# Optional legend\n",
    "from matplotlib.patches import Patch\n",
    "legend_elements = [\n",
    "    Patch(facecolor='#56B4E9', edgecolor='k', label='Taiji Driver TFs'),\n",
    "    Patch(facecolor='#E69F00', edgecolor='k', label='Passed p-value filter'),\n",
    "    Patch(facecolor='gray', edgecolor='k', label='All TFs')\n",
    "]\n",
    "plt.legend(handles=legend_elements, fontsize=20, frameon=False)"
   ]
  },
  {
   "cell_type": "code",
   "execution_count": null,
   "id": "5923b0d8-9af0-4b33-b7f4-5708c8599dac",
   "metadata": {
    "tags": []
   },
   "outputs": [],
   "source": [
    "# Save as PNG\n",
    "fig.savefig(\"/ix/djishnu/Alisa/Tfh/ForPaper/processed_Taiji/GC_vs_Early_ImportancePlot_allTFs_correcteddirection_logthresh_difTaijiRank.png\", dpi=300, bbox_inches='tight')\n",
    "\n",
    "# Save as PDF\n",
    "fig.savefig(\"/ix/djishnu/Alisa/Tfh/ForPaper/processed_Taiji/GC_vs_Early_ImportancePlot_allTFs_correcteddirection_logthresh_difTaijiRank.png.pdf\", bbox_inches='tight')\n"
   ]
  },
  {
   "cell_type": "code",
   "execution_count": null,
   "id": "14de3b73-bba1-4fed-932a-7d4823c7350e",
   "metadata": {},
   "outputs": [],
   "source": []
  }
 ],
 "metadata": {
  "kernelspec": {
   "display_name": "Python 3 (ipykernel)",
   "language": "python",
   "name": "python3"
  },
  "language_info": {
   "codemirror_mode": {
    "name": "ipython",
    "version": 3
   },
   "file_extension": ".py",
   "mimetype": "text/x-python",
   "name": "python",
   "nbconvert_exporter": "python",
   "pygments_lexer": "ipython3",
   "version": "3.11.5"
  }
 },
 "nbformat": 4,
 "nbformat_minor": 5
}
